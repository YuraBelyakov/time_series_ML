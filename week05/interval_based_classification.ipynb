{
 "cells": [
  {
   "cell_type": "markdown",
   "metadata": {},
   "source": [
    "# Interval based time series classification in sktime\n",
    "\n",
    "Interval based approaches look at phase dependant intervals of the full series, calculating summary statistics from selected subseries to be used in classification.\n",
    "\n",
    "Currently 5 univariate interval based approaches are implemented in sktime. Time Series Forest (TSF) \\[1\\], the Random Interval Spectral Ensemble (RISE) \\[2\\], Supervised Time Series Forest (STSF) \\[3\\], the Canonical Interval Forest (CIF) \\[4\\] and the Diverse Representation Canonical Interval Forest (DrCIF). Both CIF and DrCIF have multivariate capabilities.\n",
    "\n",
    "In this notebook, we will demonstrate how to use these classifiers on the ItalyPowerDemand and BasicMotions datasets.\n",
    "\n",
    "#### References:\n",
    "\n",
    "\\[1\\] Deng, H., Runger, G., Tuv, E., & Vladimir, M. (2013). A time series forest for classification and feature extraction. Information Sciences, 239, 142-153.\n",
    "\n",
    "\\[2\\] Flynn, M., Large, J., & Bagnall, T. (2019). The contract random interval spectral ensemble (c-RISE): the effect of contracting a classifier on accuracy. In International Conference on Hybrid Artificial Intelligence Systems (pp. 381-392). Springer, Cham.\n",
    "\n",
    "\\[3\\] Cabello, N., Naghizade, E., Qi, J., & Kulik, L. (2020). Fast and Accurate Time Series Classification Through Supervised Interval Search. In IEEE International Conference on Data Mining.\n",
    "\n",
    "\\[4\\] Middlehurst, M., Large, J., & Bagnall, A. (2020). The Canonical Interval Forest (CIF) Classifier for Time Series Classification. arXiv preprint arXiv:2008.09172.\n",
    "\n",
    "\\[5\\] Lubba, C. H., Sethi, S. S., Knaute, P., Schultz, S. R., Fulcher, B. D., & Jones, N. S. (2019). catch22: CAnonical Time-series CHaracteristics. Data Mining and Knowledge Discovery, 33(6), 1821-1852."
   ]
  },
  {
   "cell_type": "markdown",
   "metadata": {},
   "source": [
    "## 1. Imports"
   ]
  },
  {
   "cell_type": "code",
   "execution_count": 136,
   "metadata": {},
   "outputs": [],
   "source": [
    "import matplotlib.pyplot as plt"
   ]
  },
  {
   "cell_type": "code",
   "execution_count": 152,
   "metadata": {},
   "outputs": [],
   "source": [
    "import pandas as pd"
   ]
  },
  {
   "cell_type": "code",
   "execution_count": 137,
   "metadata": {
    "execution": {
     "iopub.execute_input": "2020-12-19T14:32:05.163967Z",
     "iopub.status.busy": "2020-12-19T14:32:05.163440Z",
     "iopub.status.idle": "2020-12-19T14:32:05.914752Z",
     "shell.execute_reply": "2020-12-19T14:32:05.915264Z"
    }
   },
   "outputs": [],
   "source": [
    "from sklearn import metrics\n",
    "\n",
    "from sktime.classification.interval_based import (\n",
    "    CanonicalIntervalForest,\n",
    "    DrCIF,\n",
    "    RandomIntervalSpectralEnsemble,\n",
    "    SupervisedTimeSeriesForest,\n",
    "    TimeSeriesForestClassifier,\n",
    ")\n",
    "from sktime.datasets import load_basic_motions, load_italy_power_demand"
   ]
  },
  {
   "cell_type": "markdown",
   "metadata": {},
   "source": [
    "## 2. Load data"
   ]
  },
  {
   "cell_type": "code",
   "execution_count": 186,
   "metadata": {
    "execution": {
     "iopub.execute_input": "2020-12-19T14:32:05.919120Z",
     "iopub.status.busy": "2020-12-19T14:32:05.918629Z",
     "iopub.status.idle": "2020-12-19T14:32:06.041420Z",
     "shell.execute_reply": "2020-12-19T14:32:06.040742Z"
    }
   },
   "outputs": [
    {
     "name": "stdout",
     "output_type": "stream",
     "text": [
      "(67, 1) (67,) (50, 1) (50,)\n",
      "(40, 6) (40,) (40, 6) (40,)\n"
     ]
    }
   ],
   "source": [
    "X_train, y_train = load_italy_power_demand(split=\"train\", return_X_y=True)\n",
    "X_test, y_test = load_italy_power_demand(split=\"test\", return_X_y=True)\n",
    "X_test = X_test[:50]\n",
    "y_test = y_test[:50]\n",
    "\n",
    "print(X_train.shape, y_train.shape, X_test.shape, y_test.shape)\n",
    "\n",
    "X_train_mv, y_train_mv = load_basic_motions(split=\"train\", return_X_y=True)\n",
    "X_test_mv, y_test_mv = load_basic_motions(split=\"test\", return_X_y=True)\n",
    "\n",
    "X_train_mv = X_train_mv[:50]\n",
    "y_train_mv = y_train_mv[:50]\n",
    "X_test_mv = X_test_mv[:50]\n",
    "y_test_mv = y_test_mv[:50]\n",
    "\n",
    "print(X_train_mv.shape, y_train_mv.shape, X_test_mv.shape, y_test_mv.shape)"
   ]
  },
  {
   "cell_type": "code",
   "execution_count": 187,
   "metadata": {},
   "outputs": [
    {
     "data": {
      "text/html": [
       "<div>\n",
       "<style scoped>\n",
       "    .dataframe tbody tr th:only-of-type {\n",
       "        vertical-align: middle;\n",
       "    }\n",
       "\n",
       "    .dataframe tbody tr th {\n",
       "        vertical-align: top;\n",
       "    }\n",
       "\n",
       "    .dataframe thead th {\n",
       "        text-align: right;\n",
       "    }\n",
       "</style>\n",
       "<table border=\"1\" class=\"dataframe\">\n",
       "  <thead>\n",
       "    <tr style=\"text-align: right;\">\n",
       "      <th></th>\n",
       "      <th>dim_0</th>\n",
       "    </tr>\n",
       "  </thead>\n",
       "  <tbody>\n",
       "    <tr>\n",
       "      <th>0</th>\n",
       "      <td>0    -0.710518\n",
       "1    -1.183320\n",
       "2    -1.372442\n",
       "3...</td>\n",
       "    </tr>\n",
       "    <tr>\n",
       "      <th>1</th>\n",
       "      <td>0    -0.993009\n",
       "1    -1.426786\n",
       "2    -1.579884\n",
       "3...</td>\n",
       "    </tr>\n",
       "    <tr>\n",
       "      <th>2</th>\n",
       "      <td>0     1.319067\n",
       "1     0.569774\n",
       "2     0.195128\n",
       "3...</td>\n",
       "    </tr>\n",
       "    <tr>\n",
       "      <th>3</th>\n",
       "      <td>0    -0.812444\n",
       "1    -1.157553\n",
       "2    -1.416385\n",
       "3...</td>\n",
       "    </tr>\n",
       "    <tr>\n",
       "      <th>4</th>\n",
       "      <td>0    -0.972840\n",
       "1    -1.390518\n",
       "2    -1.536705\n",
       "3...</td>\n",
       "    </tr>\n",
       "    <tr>\n",
       "      <th>...</th>\n",
       "      <td>...</td>\n",
       "    </tr>\n",
       "    <tr>\n",
       "      <th>62</th>\n",
       "      <td>0    -1.037930\n",
       "1    -1.301658\n",
       "2    -1.469485\n",
       "3...</td>\n",
       "    </tr>\n",
       "    <tr>\n",
       "      <th>63</th>\n",
       "      <td>0    -0.373579\n",
       "1    -0.986632\n",
       "2    -1.446422\n",
       "3...</td>\n",
       "    </tr>\n",
       "    <tr>\n",
       "      <th>64</th>\n",
       "      <td>0    -1.159152\n",
       "1    -1.301400\n",
       "2    -1.524933\n",
       "3...</td>\n",
       "    </tr>\n",
       "    <tr>\n",
       "      <th>65</th>\n",
       "      <td>0    -0.694919\n",
       "1    -1.235829\n",
       "2    -1.416133\n",
       "3...</td>\n",
       "    </tr>\n",
       "    <tr>\n",
       "      <th>66</th>\n",
       "      <td>0     0.984033\n",
       "1     0.169661\n",
       "2    -0.519423\n",
       "3...</td>\n",
       "    </tr>\n",
       "  </tbody>\n",
       "</table>\n",
       "<p>67 rows × 1 columns</p>\n",
       "</div>"
      ],
      "text/plain": [
       "                                                dim_0\n",
       "0   0    -0.710518\n",
       "1    -1.183320\n",
       "2    -1.372442\n",
       "3...\n",
       "1   0    -0.993009\n",
       "1    -1.426786\n",
       "2    -1.579884\n",
       "3...\n",
       "2   0     1.319067\n",
       "1     0.569774\n",
       "2     0.195128\n",
       "3...\n",
       "3   0    -0.812444\n",
       "1    -1.157553\n",
       "2    -1.416385\n",
       "3...\n",
       "4   0    -0.972840\n",
       "1    -1.390518\n",
       "2    -1.536705\n",
       "3...\n",
       "..                                                ...\n",
       "62  0    -1.037930\n",
       "1    -1.301658\n",
       "2    -1.469485\n",
       "3...\n",
       "63  0    -0.373579\n",
       "1    -0.986632\n",
       "2    -1.446422\n",
       "3...\n",
       "64  0    -1.159152\n",
       "1    -1.301400\n",
       "2    -1.524933\n",
       "3...\n",
       "65  0    -0.694919\n",
       "1    -1.235829\n",
       "2    -1.416133\n",
       "3...\n",
       "66  0     0.984033\n",
       "1     0.169661\n",
       "2    -0.519423\n",
       "3...\n",
       "\n",
       "[67 rows x 1 columns]"
      ]
     },
     "execution_count": 187,
     "metadata": {},
     "output_type": "execute_result"
    }
   ],
   "source": [
    "X_train"
   ]
  },
  {
   "cell_type": "code",
   "execution_count": 188,
   "metadata": {},
   "outputs": [
    {
     "data": {
      "text/plain": [
       "array(['1', '1', '2', '2', '1', '1', '2', '1', '1', '2', '2', '1', '1',\n",
       "       '2', '1', '2', '1', '1', '2', '1', '1', '2', '1', '1', '1', '1',\n",
       "       '1', '2', '2', '1', '1', '2', '2', '1', '2', '2', '1', '2', '1',\n",
       "       '2', '1', '1', '2', '2', '1', '2', '2', '2', '2', '1', '1', '2',\n",
       "       '2', '2', '1', '2', '2', '1', '1', '2', '2', '1', '1', '2', '1',\n",
       "       '2', '2'], dtype='<U1')"
      ]
     },
     "execution_count": 188,
     "metadata": {},
     "output_type": "execute_result"
    }
   ],
   "source": [
    "y_train"
   ]
  },
  {
   "cell_type": "code",
   "execution_count": 189,
   "metadata": {},
   "outputs": [],
   "source": [
    "def prepare_data(X_train):\n",
    "    x = []\n",
    "    for i in range(X_train.shape[0]):\n",
    "        v = X_train.iloc[i].astype(str).values[0].split('\\n')[:-1]\n",
    "        x.append([float(name.split('   ')[1].replace(' ','')) for name in v])\n",
    "    x_train = np.array(x)\n",
    "    return pd.DataFrame(x_train)"
   ]
  },
  {
   "cell_type": "code",
   "execution_count": 190,
   "metadata": {},
   "outputs": [],
   "source": [
    "X_train = prepare_data(X_train)\n",
    "X_test = prepare_data(X_test)\n",
    "y_train = y_train.astype(int)-1\n",
    "y_test = y_test.astype(int)-1"
   ]
  },
  {
   "cell_type": "code",
   "execution_count": 191,
   "metadata": {},
   "outputs": [],
   "source": [
    "from sklearn.ensemble import RandomForestClassifier\n",
    "from sklearn.metrics import accuracy_score, recall_score"
   ]
  },
  {
   "cell_type": "code",
   "execution_count": 192,
   "metadata": {},
   "outputs": [
    {
     "data": {
      "text/plain": [
       "array([1, 1, 1, 1, 1, 0, 1, 1, 1, 1, 1, 1, 1, 0, 0, 1, 0, 0, 0, 1, 0, 0,\n",
       "       1, 0, 1, 0, 0, 0, 1, 0, 0, 0, 0, 1, 1, 0, 1, 0, 1, 0, 1, 1, 1, 1,\n",
       "       0, 1, 1, 0, 1, 0])"
      ]
     },
     "execution_count": 192,
     "metadata": {},
     "output_type": "execute_result"
    }
   ],
   "source": [
    "y_test"
   ]
  },
  {
   "cell_type": "code",
   "execution_count": 193,
   "metadata": {},
   "outputs": [
    {
     "data": {
      "text/plain": [
       "array([0, 0, 1, 1, 0, 0, 1, 0, 0, 1, 1, 0, 0, 1, 0, 1, 0, 0, 1, 0, 0, 1,\n",
       "       0, 0, 0, 0, 0, 1, 1, 0, 0, 1, 1, 0, 1, 1, 0, 1, 0, 1, 0, 0, 1, 1,\n",
       "       0, 1, 1, 1, 1, 0, 0, 1, 1, 1, 0, 1, 1, 0, 0, 1, 1, 0, 0, 1, 0, 1,\n",
       "       1])"
      ]
     },
     "execution_count": 193,
     "metadata": {},
     "output_type": "execute_result"
    }
   ],
   "source": [
    "y_train"
   ]
  },
  {
   "cell_type": "code",
   "execution_count": 194,
   "metadata": {},
   "outputs": [
    {
     "data": {
      "text/plain": [
       "0.9285714285714286"
      ]
     },
     "execution_count": 194,
     "metadata": {},
     "output_type": "execute_result"
    }
   ],
   "source": [
    "forest = RandomForestClassifier()\n",
    "forest.fit(X_train, y_train)\n",
    "y_hat = forest.predict(X_test)\n",
    "recall_score(y_test, y_hat)"
   ]
  },
  {
   "cell_type": "code",
   "execution_count": 207,
   "metadata": {},
   "outputs": [],
   "source": [
    "def get_stats(X_train):\n",
    "    X_stat = pd.DataFrame()\n",
    "    \n",
    "    means = X_train.mean(axis=1)\n",
    "    X_stat['mean'] = means\n",
    "    \n",
    "    std = X_train.std(axis=1)\n",
    "    X_stat['std'] = std\n",
    "    \n",
    "    max_ = X_train.max(axis=1)\n",
    "    X_stat['max_'] = max_\n",
    "    \n",
    "    min_ = X_train.min(axis=1)\n",
    "    X_stat['min_'] = min_\n",
    "    return X_stat"
   ]
  },
  {
   "cell_type": "code",
   "execution_count": 208,
   "metadata": {},
   "outputs": [],
   "source": [
    "X_train_stat = get_stats(X_train)\n",
    "X_test_stat = get_stats(X_test)"
   ]
  },
  {
   "cell_type": "code",
   "execution_count": 211,
   "metadata": {},
   "outputs": [
    {
     "data": {
      "text/plain": [
       "0.6428571428571429"
      ]
     },
     "execution_count": 211,
     "metadata": {},
     "output_type": "execute_result"
    }
   ],
   "source": [
    "forest = RandomForestClassifier()\n",
    "forest.fit(X_train_stat, y_train)\n",
    "y_hat = forest.predict(X_test_stat)\n",
    "recall_score(y_test, y_hat)"
   ]
  },
  {
   "cell_type": "code",
   "execution_count": 214,
   "metadata": {},
   "outputs": [],
   "source": [
    "X_train['max_'] = X_train.max(axis=1)\n",
    "X_train['min_'] = X_train.min(axis=1)\n",
    "\n",
    "X_test['max_'] = X_test.max(axis=1)\n",
    "X_test['min_'] = X_test.min(axis=1)"
   ]
  },
  {
   "cell_type": "code",
   "execution_count": 215,
   "metadata": {},
   "outputs": [
    {
     "name": "stderr",
     "output_type": "stream",
     "text": [
      "/Users/belyakov/miniforge3/envs/env_tf/lib/python3.9/site-packages/sklearn/utils/validation.py:1858: FutureWarning: Feature names only support names that are all strings. Got feature names with dtypes: ['int', 'str']. An error will be raised in 1.2.\n",
      "  warnings.warn(\n",
      "/Users/belyakov/miniforge3/envs/env_tf/lib/python3.9/site-packages/sklearn/utils/validation.py:1858: FutureWarning: Feature names only support names that are all strings. Got feature names with dtypes: ['int', 'str']. An error will be raised in 1.2.\n",
      "  warnings.warn(\n"
     ]
    },
    {
     "data": {
      "text/plain": [
       "1.0"
      ]
     },
     "execution_count": 215,
     "metadata": {},
     "output_type": "execute_result"
    }
   ],
   "source": [
    "forest = RandomForestClassifier()\n",
    "forest.fit(X_train, y_train)\n",
    "y_hat = forest.predict(X_test)\n",
    "recall_score(y_test, y_hat)"
   ]
  },
  {
   "cell_type": "code",
   "execution_count": null,
   "metadata": {},
   "outputs": [],
   "source": []
  },
  {
   "cell_type": "markdown",
   "metadata": {},
   "source": [
    "## 3. Time Series Forest (TSF)\n",
    "\n",
    "TSF is an ensemble of tree classifiers built on the summary statistics of randomly selected intervals.\n",
    "For each tree sqrt(series_length) intervals are randomly selected.\n",
    "From each of these intervals the mean, standard deviation and slope is extracted from each time series and concatenated into a feature vector.\n",
    "These new features are then used to build a tree, which is added to the ensemble."
   ]
  },
  {
   "cell_type": "code",
   "execution_count": 103,
   "metadata": {},
   "outputs": [],
   "source": [
    "X_train, y_train = load_italy_power_demand(split=\"train\", return_X_y=True)"
   ]
  },
  {
   "cell_type": "code",
   "execution_count": 128,
   "metadata": {},
   "outputs": [],
   "source": []
  },
  {
   "cell_type": "code",
   "execution_count": 130,
   "metadata": {},
   "outputs": [
    {
     "data": {
      "text/plain": [
       "(67, 24)"
      ]
     },
     "execution_count": 130,
     "metadata": {},
     "output_type": "execute_result"
    }
   ],
   "source": [
    "x_train.shape"
   ]
  },
  {
   "cell_type": "code",
   "execution_count": 131,
   "metadata": {},
   "outputs": [],
   "source": [
    "x_train = np.hstack((x_train, \n",
    "                     x_train.max(axis=1).reshape(-1,1),\n",
    "                     x_train.min(axis=1).reshape(-1,1),\n",
    "                     x_train.std(axis=1).reshape(-1,1),\n",
    "                     x_train.mean(axis=1).reshape(-1,1)\n",
    "                    ))"
   ]
  },
  {
   "cell_type": "code",
   "execution_count": 132,
   "metadata": {},
   "outputs": [],
   "source": [
    "x_test = np.hstack((x_test, \n",
    "                     x_test.max(axis=1).reshape(-1,1),\n",
    "                     x_test.min(axis=1).reshape(-1,1),\n",
    "                     x_test.std(axis=1).reshape(-1,1),\n",
    "                     x_test.mean(axis=1).reshape(-1,1)\n",
    "                    ))"
   ]
  },
  {
   "cell_type": "code",
   "execution_count": 133,
   "metadata": {},
   "outputs": [
    {
     "data": {
      "text/plain": [
       "(67, 28)"
      ]
     },
     "execution_count": 133,
     "metadata": {},
     "output_type": "execute_result"
    }
   ],
   "source": [
    "x_train.shape"
   ]
  },
  {
   "cell_type": "code",
   "execution_count": 134,
   "metadata": {},
   "outputs": [
    {
     "data": {
      "text/plain": [
       "(50, 28)"
      ]
     },
     "execution_count": 134,
     "metadata": {},
     "output_type": "execute_result"
    }
   ],
   "source": [
    "x_test.shape"
   ]
  },
  {
   "cell_type": "code",
   "execution_count": 135,
   "metadata": {},
   "outputs": [
    {
     "name": "stdout",
     "output_type": "stream",
     "text": [
      "TSF Accuracy: 1.0\n"
     ]
    }
   ],
   "source": [
    "tsf = TimeSeriesForestClassifier(n_estimators=50, random_state=47)\n",
    "tsf.fit(x_train, y_train)\n",
    "\n",
    "tsf_preds = tsf.predict(x_test)\n",
    "print(\"TSF Accuracy: \" + str(metrics.accuracy_score(y_test, tsf_preds)))"
   ]
  },
  {
   "cell_type": "code",
   "execution_count": 21,
   "metadata": {
    "execution": {
     "iopub.execute_input": "2020-12-19T14:32:06.045197Z",
     "iopub.status.busy": "2020-12-19T14:32:06.044696Z",
     "iopub.status.idle": "2020-12-19T14:32:06.460714Z",
     "shell.execute_reply": "2020-12-19T14:32:06.461260Z"
    }
   },
   "outputs": [
    {
     "name": "stdout",
     "output_type": "stream",
     "text": [
      "TSF Accuracy: 0.98\n"
     ]
    }
   ],
   "source": [
    "tsf = TimeSeriesForestClassifier(n_estimators=50, random_state=47)\n",
    "tsf.fit(X_train, y_train)\n",
    "\n",
    "tsf_preds = tsf.predict(X_test)\n",
    "print(\"TSF Accuracy: \" + str(metrics.accuracy_score(y_test, tsf_preds)))"
   ]
  },
  {
   "cell_type": "markdown",
   "metadata": {},
   "source": [
    "## 4. Random Interval Spectral Ensemble (RISE)\n",
    "\n",
    "RISE is a tree based interval ensemble aimed at classifying audio data. Unlike TSF, it uses a single interval for each tree, and it uses spectral features rather than summary statistics."
   ]
  },
  {
   "cell_type": "code",
   "execution_count": 4,
   "metadata": {
    "pycharm": {
     "name": "#%%\n"
    }
   },
   "outputs": [
    {
     "name": "stdout",
     "output_type": "stream",
     "text": [
      "RISE Accuracy: 1.0\n"
     ]
    }
   ],
   "source": [
    "rise = RandomIntervalSpectralEnsemble(n_estimators=50, random_state=47)\n",
    "rise.fit(X_train, y_train)\n",
    "\n",
    "rise_preds = rise.predict(X_test)\n",
    "print(\"RISE Accuracy: \" + str(metrics.accuracy_score(y_test, rise_preds)))"
   ]
  },
  {
   "cell_type": "markdown",
   "metadata": {},
   "source": [
    "## 5. Supervised Time Series Forest (STSF)\n",
    "\n",
    "STSF makes a number of adjustments from the original TSF algorithm. A supervised method of selecting intervals replaces random selection. Features are extracted from intervals generated from additional representations in periodogram and 1st order differences. Median, min, max and interquartile range are included in the summary statistics extracted."
   ]
  },
  {
   "cell_type": "code",
   "execution_count": 5,
   "metadata": {
    "pycharm": {
     "name": "#%%\n"
    }
   },
   "outputs": [
    {
     "name": "stdout",
     "output_type": "stream",
     "text": [
      "STSF Accuracy: 0.96\n"
     ]
    }
   ],
   "source": [
    "stsf = SupervisedTimeSeriesForest(n_estimators=50, random_state=47)\n",
    "stsf.fit(X_train, y_train)\n",
    "\n",
    "stsf_preds = stsf.predict(X_test)\n",
    "print(\"STSF Accuracy: \" + str(metrics.accuracy_score(y_test, stsf_preds)))"
   ]
  },
  {
   "cell_type": "markdown",
   "metadata": {},
   "source": [
    "## 6. Canonical Interval Forest (CIF)\n",
    "\n",
    "CIF extends from the TSF algorithm. In addition to the 3 summary statistics used by TSF, CIF makes use of the features from the `Catch22` \\[5\\] transform.\n",
    "To increase the diversity of the ensemble, the number of TSF and catch22 attributes is randomly subsampled per tree.\n",
    "\n",
    "### Univariate"
   ]
  },
  {
   "cell_type": "code",
   "execution_count": 6,
   "metadata": {
    "execution": {
     "iopub.execute_input": "2020-12-19T14:32:06.471294Z",
     "iopub.status.busy": "2020-12-19T14:32:06.467536Z",
     "iopub.status.idle": "2020-12-19T14:32:10.775056Z",
     "shell.execute_reply": "2020-12-19T14:32:10.775964Z"
    },
    "pycharm": {
     "name": "#%%\n"
    }
   },
   "outputs": [
    {
     "name": "stdout",
     "output_type": "stream",
     "text": [
      "CIF Accuracy: 0.98\n"
     ]
    }
   ],
   "source": [
    "cif = CanonicalIntervalForest(n_estimators=50, att_subsample_size=8, random_state=47)\n",
    "cif.fit(X_train, y_train)\n",
    "\n",
    "cif_preds = cif.predict(X_test)\n",
    "print(\"CIF Accuracy: \" + str(metrics.accuracy_score(y_test, cif_preds)))"
   ]
  },
  {
   "cell_type": "markdown",
   "metadata": {},
   "source": [
    "### Multivariate"
   ]
  },
  {
   "cell_type": "code",
   "execution_count": 7,
   "metadata": {
    "pycharm": {
     "name": "#%%\n"
    }
   },
   "outputs": [
    {
     "name": "stdout",
     "output_type": "stream",
     "text": [
      "CIF Accuracy: 1.0\n"
     ]
    }
   ],
   "source": [
    "cif_m = CanonicalIntervalForest(n_estimators=50, att_subsample_size=8, random_state=47)\n",
    "cif_m.fit(X_train_mv, y_train_mv)\n",
    "\n",
    "cif_m_preds = cif_m.predict(X_test_mv)\n",
    "print(\"CIF Accuracy: \" + str(metrics.accuracy_score(y_test_mv, cif_m_preds)))"
   ]
  },
  {
   "cell_type": "markdown",
   "metadata": {},
   "source": [
    "## 6. Diverse Representation Canonical Interval Forest (DrCIF)\n",
    "\n",
    "DrCIF makes use of the periodogram and differences representations used by STSF as well as the addition summary statistics in CIF.\n",
    "\n",
    "### Univariate"
   ]
  },
  {
   "cell_type": "code",
   "execution_count": 8,
   "metadata": {
    "pycharm": {
     "name": "#%%\n"
    }
   },
   "outputs": [
    {
     "name": "stdout",
     "output_type": "stream",
     "text": [
      "DrCIF Accuracy: 0.98\n"
     ]
    }
   ],
   "source": [
    "drcif = DrCIF(n_estimators=5, att_subsample_size=10, random_state=47)\n",
    "drcif.fit(X_train, y_train)\n",
    "\n",
    "drcif_preds = drcif.predict(X_test)\n",
    "print(\"DrCIF Accuracy: \" + str(metrics.accuracy_score(y_test, drcif_preds)))"
   ]
  },
  {
   "cell_type": "markdown",
   "metadata": {
    "pycharm": {
     "name": "#%% md\n"
    }
   },
   "source": [
    "### Multivariate"
   ]
  },
  {
   "cell_type": "code",
   "execution_count": 9,
   "metadata": {
    "pycharm": {
     "name": "#%%\n"
    }
   },
   "outputs": [
    {
     "name": "stdout",
     "output_type": "stream",
     "text": [
      "DrCIF Accuracy: 1.0\n"
     ]
    }
   ],
   "source": [
    "drcif_m = DrCIF(n_estimators=5, att_subsample_size=10, random_state=47)\n",
    "drcif_m.fit(X_train_mv, y_train_mv)\n",
    "\n",
    "drcif_m_preds = drcif_m.predict(X_test_mv)\n",
    "print(\"DrCIF Accuracy: \" + str(metrics.accuracy_score(y_test_mv, drcif_m_preds)))"
   ]
  }
 ],
 "metadata": {
  "kernelspec": {
   "display_name": "Python 3",
   "language": "python",
   "name": "python3"
  },
  "language_info": {
   "codemirror_mode": {
    "name": "ipython",
    "version": 3
   },
   "file_extension": ".py",
   "mimetype": "text/x-python",
   "name": "python",
   "nbconvert_exporter": "python",
   "pygments_lexer": "ipython3",
   "version": "3.9.12"
  }
 },
 "nbformat": 4,
 "nbformat_minor": 2
}
